{
 "cells": [
  {
   "cell_type": "code",
   "execution_count": 1,
   "metadata": {
    "collapsed": true
   },
   "outputs": [],
   "source": [
    "import copy"
   ]
  },
  {
   "cell_type": "markdown",
   "metadata": {},
   "source": [
    "## Function to generate children states from a given state\n",
    "There are exactly nine children from any given node -- the first zero replaced with numbers 1 through 9"
   ]
  },
  {
   "cell_type": "code",
   "execution_count": 2,
   "metadata": {
    "collapsed": true
   },
   "outputs": [],
   "source": [
    "def get_replace_index(puzz_state):\n",
    "    for rindx, row in enumerate(puzz_state):\n",
    "        for elem_indx, k in enumerate(row):\n",
    "            if not k: # zero found\n",
    "                return rindx, elem_indx\n",
    "def expand(puzz_state):\n",
    "    ret = []\n",
    "    indices =  get_replace_index(puzz_state)\n",
    "    if not indices:\n",
    "        return ret\n",
    "    rindx, cindx = indices\n",
    "    for val in range(1,10):\n",
    "        new_state = copy.deepcopy(puzz_state)\n",
    "        new_state[rindx][cindx] = val\n",
    "        ret.append(new_state)\n",
    "    return ret"
   ]
  },
  {
   "cell_type": "markdown",
   "metadata": {},
   "source": [
    "## Goal test functions\n",
    "A state is a goal iff it is a terminal(no zero elements) and has:\n",
    "* zero to nine once in each row\n",
    "* zero to nine once in each column\n",
    "* zero to nine once in each 3x3 sub matrix"
   ]
  },
  {
   "cell_type": "code",
   "execution_count": 3,
   "metadata": {
    "collapsed": true
   },
   "outputs": [],
   "source": [
    "def isTerminal(puzz_state):\n",
    "    if not get_replace_index(puzz_state):\n",
    "        return True\n",
    "    else:\n",
    "        return False\n",
    "\n",
    "def isValid(puzz_state):\n",
    "    for row in puzz_state:\n",
    "        # check for repeated \n",
    "        if not len(row) == len(set(row)):\n",
    "            return False\n",
    "    for cindx in range(len(puzz_state[0])):\n",
    "        col = [x for x in map(lambda x: x[cindx], puzz_state)]\n",
    "        # check for repeated\n",
    "        if not len(col) == len(set(col)):\n",
    "            return False\n",
    "    return True\n",
    "    \n",
    "def isGoal(puzz_state):\n",
    "    return (isTerminal(puzz_state) and isValid(puzz_state))"
   ]
  },
  {
   "cell_type": "markdown",
   "metadata": {},
   "source": [
    "## DFS solver function"
   ]
  },
  {
   "cell_type": "code",
   "execution_count": 13,
   "metadata": {
    "collapsed": true
   },
   "outputs": [],
   "source": [
    "def depth_first_search(puzz_state):\n",
    "    stack = []\n",
    "    stack.append(puzz_state)\n",
    "    # initialization over, now start loop\n",
    "    iter = 0\n",
    "    while (len(stack)):\n",
    "        iter += 1\n",
    "        if iter%50==0:\n",
    "            print (\"Iteration {}; Length of stack {}\".format(iter, len(stack)))\n",
    "        curr_state = stack[0]\n",
    "        stack = stack[1:]\n",
    "        if isGoal(curr_state):\n",
    "            return curr_state\n",
    "        elem_children = expand(curr_state)\n",
    "        oldstack = copy.deepcopy(stack)\n",
    "        stack = elem_children\n",
    "        stack.extend(oldstack)\n",
    "    return \"No goal found\""
   ]
  },
  {
   "cell_type": "markdown",
   "metadata": {},
   "source": [
    "## Some inputs\n",
    "Solved puzzle, and almost solved state (for testing)"
   ]
  },
  {
   "cell_type": "code",
   "execution_count": 5,
   "metadata": {
    "collapsed": true
   },
   "outputs": [],
   "source": [
    "puzzle5 = [[0, 0, 0, 0, 3, 0, 2, 0, 0],\n",
    "            [0, 0, 0, 0, 0, 0, 0, 1, 9],\n",
    "            [0, 0, 6, 9, 0, 0, 4, 7, 0],\n",
    "            [0, 9, 0, 3, 0, 0, 0, 0, 7],\n",
    "            [4, 0, 0, 5, 0, 7, 0, 0, 2],\n",
    "            [2, 0, 0, 0, 0, 8, 0, 6, 0],\n",
    "            [0, 5, 2, 0, 0, 9, 3, 0, 0],\n",
    "            [3, 8, 0, 0, 0, 0, 0, 0, 0],\n",
    "            [0, 0, 7, 0, 5, 0, 0, 0, 0]]\n",
    "\n",
    "puzzle5_almost = [[7, 1, 9, 6, 3, 4, 2, 5, 8],\n",
    "                [8, 3, 4, 7, 2, 5, 0, 1, 9],\n",
    "                [5, 2, 6, 9, 8, 1, 4, 7, 3],\n",
    "                [1, 9, 5, 3, 6, 2, 8, 4, 7],\n",
    "                [4, 6, 8, 5, 1, 7, 9, 3, 2],\n",
    "                [2, 7, 3, 4, 9, 8, 0, 6, 1],\n",
    "                [6, 5, 2, 1, 7, 0, 3, 8, 4],\n",
    "                [3, 8, 1, 2, 4, 6, 7, 9, 5],\n",
    "                [9, 4, 7, 8, 5, 3, 1, 2, 6]]\n",
    "\n",
    "puzzle5_soln = [[7, 1, 9, 6, 3, 4, 2, 5, 8],\n",
    "                [8, 3, 4, 7, 2, 5, 6, 1, 9],\n",
    "                [5, 2, 6, 9, 8, 1, 4, 7, 3],\n",
    "                [1, 9, 5, 3, 6, 2, 8, 4, 7],\n",
    "                [4, 6, 8, 5, 1, 7, 9, 3, 2],\n",
    "                [2, 7, 3, 4, 9, 8, 5, 6, 1],\n",
    "                [6, 5, 2, 1, 7, 9, 3, 8, 4],\n",
    "                [3, 8, 1, 2, 4, 6, 7, 9, 5],\n",
    "                [9, 4, 7, 8, 5, 3, 1, 2, 6]]"
   ]
  },
  {
   "cell_type": "markdown",
   "metadata": {},
   "source": [
    "## Run the solver with given input"
   ]
  },
  {
   "cell_type": "code",
   "execution_count": 14,
   "metadata": {},
   "outputs": [
    {
     "name": "stdout",
     "output_type": "stream",
     "text": [
      "Iteration 50; Length of stack 15\n",
      "Iteration 100; Length of stack 19\n",
      "Iteration 150; Length of stack 14\n",
      "Iteration 200; Length of stack 18\n",
      "Iteration 250; Length of stack 13\n",
      "Iteration 300; Length of stack 17\n",
      "Iteration 350; Length of stack 12\n",
      "Iteration 400; Length of stack 16\n",
      "Iteration 450; Length of stack 11\n",
      "Iteration 500; Length of stack 15\n",
      "Goal found : \n",
      " [[7, 1, 9, 6, 3, 4, 2, 5, 8], [8, 3, 4, 7, 2, 5, 6, 1, 9], [5, 2, 6, 9, 8, 1, 4, 7, 3], [1, 9, 5, 3, 6, 2, 8, 4, 7], [4, 6, 8, 5, 1, 7, 9, 3, 2], [2, 7, 3, 4, 9, 8, 5, 6, 1], [6, 5, 2, 1, 7, 9, 3, 8, 4], [3, 8, 1, 2, 4, 6, 7, 9, 5], [9, 4, 7, 8, 5, 3, 1, 2, 6]]\n"
     ]
    }
   ],
   "source": [
    "returned_value = depth_first_search(puzzle5_almost)\n",
    "if (isinstance(returned_value, list)):\n",
    "    print (\"Goal found : \\n\",returned_value)\n",
    "else:\n",
    "    print (returned_value)"
   ]
  },
  {
   "cell_type": "markdown",
   "metadata": {
    "collapsed": true
   },
   "source": [
    "## test if solution matches"
   ]
  },
  {
   "cell_type": "code",
   "execution_count": 15,
   "metadata": {
    "collapsed": true
   },
   "outputs": [],
   "source": [
    "def compare(state1, state2):\n",
    "    for index, item_list in enumerate(state1):\n",
    "        if item_list != state2[index]:\n",
    "            return False\n",
    "        return True"
   ]
  },
  {
   "cell_type": "code",
   "execution_count": 16,
   "metadata": {},
   "outputs": [
    {
     "data": {
      "text/plain": [
       "False"
      ]
     },
     "execution_count": 16,
     "metadata": {},
     "output_type": "execute_result"
    }
   ],
   "source": [
    "compare(puzzle5, puzzle5_soln)"
   ]
  },
  {
   "cell_type": "code",
   "execution_count": 17,
   "metadata": {},
   "outputs": [
    {
     "data": {
      "text/plain": [
       "True"
      ]
     },
     "execution_count": 17,
     "metadata": {},
     "output_type": "execute_result"
    }
   ],
   "source": [
    "compare(returned_value, puzzle5_soln)"
   ]
  },
  {
   "cell_type": "markdown",
   "metadata": {},
   "source": [
    "## done!"
   ]
  }
 ],
 "metadata": {
  "kernelspec": {
   "display_name": "Python 3",
   "language": "python",
   "name": "python3"
  },
  "language_info": {
   "codemirror_mode": {
    "name": "ipython",
    "version": 3
   },
   "file_extension": ".py",
   "mimetype": "text/x-python",
   "name": "python",
   "nbconvert_exporter": "python",
   "pygments_lexer": "ipython3",
   "version": "3.6.2"
  }
 },
 "nbformat": 4,
 "nbformat_minor": 2
}
