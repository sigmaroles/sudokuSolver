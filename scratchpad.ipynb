{
 "cells": [
  {
   "cell_type": "code",
   "execution_count": 3,
   "metadata": {
    "collapsed": true
   },
   "outputs": [],
   "source": [
    "psoln =[[7, 1, 9, 6, 3, 4, 2, 5, 8],\n",
    "        [8, 3, 4, 7, 2, 5, 6, 1, 9],\n",
    "        [5, 2, 6, 9, 8, 1, 4, 7, 3],\n",
    "        [1, 9, 5, 3, 6, 2, 8, 4, 7],\n",
    "        [4, 6, 8, 5, 1, 7, 9, 3, 2],\n",
    "        [2, 7, 3, 4, 9, 8, 5, 6, 1],\n",
    "        [6, 5, 2, 1, 7, 9, 3, 8, 4],\n",
    "        [3, 8, 1, 2, 4, 6, 7, 9, 5],\n",
    "        [9, 4, 7, 8, 5, 3, 1, 2, 6]]"
   ]
  },
  {
   "cell_type": "code",
   "execution_count": 1,
   "metadata": {
    "collapsed": true
   },
   "outputs": [],
   "source": [
    "digit_set = {1,2,3,4,5,6,7,8,9,0}"
   ]
  },
  {
   "cell_type": "code",
   "execution_count": 10,
   "metadata": {},
   "outputs": [
    {
     "data": {
      "text/plain": [
       "True"
      ]
     },
     "execution_count": 10,
     "metadata": {},
     "output_type": "execute_result"
    }
   ],
   "source": [
    "set(psoln[5]).issubset(digit_set)"
   ]
  },
  {
   "cell_type": "code",
   "execution_count": 6,
   "metadata": {
    "collapsed": true
   },
   "outputs": [],
   "source": [
    "stack.append(psoln)"
   ]
  },
  {
   "cell_type": "code",
   "execution_count": 10,
   "metadata": {},
   "outputs": [
    {
     "data": {
      "text/plain": [
       "2"
      ]
     },
     "execution_count": 10,
     "metadata": {},
     "output_type": "execute_result"
    }
   ],
   "source": [
    "len(stack)"
   ]
  },
  {
   "cell_type": "code",
   "execution_count": 11,
   "metadata": {},
   "outputs": [
    {
     "data": {
      "text/plain": [
       "[[7, 1, 9, 6, 3, 4, 2, 5, 8],\n",
       " [8, 3, 4, 7, 2, 5, 6, 1, 9],\n",
       " [5, 2, 6, 9, 8, 1, 4, 7, 3],\n",
       " [1, 9, 5, 3, 6, 2, 8, 4, 7],\n",
       " [4, 6, 8, 5, 1, 7, 9, 3, 2],\n",
       " [2, 7, 3, 4, 9, 8, 5, 6, 1],\n",
       " [6, 5, 2, 1, 7, 9, 3, 8, 4],\n",
       " [3, 8, 1, 2, 4, 6, 7, 9, 5],\n",
       " [9, 4, 7, 8, 5, 3, 1, 2, 6]]"
      ]
     },
     "execution_count": 11,
     "metadata": {},
     "output_type": "execute_result"
    }
   ],
   "source": [
    "stack[1]"
   ]
  },
  {
   "cell_type": "code",
   "execution_count": null,
   "metadata": {
    "collapsed": true
   },
   "outputs": [],
   "source": []
  }
 ],
 "metadata": {
  "kernelspec": {
   "display_name": "Python 3",
   "language": "python",
   "name": "python3"
  },
  "language_info": {
   "codemirror_mode": {
    "name": "ipython",
    "version": 3
   },
   "file_extension": ".py",
   "mimetype": "text/x-python",
   "name": "python",
   "nbconvert_exporter": "python",
   "pygments_lexer": "ipython3",
   "version": "3.6.2"
  }
 },
 "nbformat": 4,
 "nbformat_minor": 2
}
